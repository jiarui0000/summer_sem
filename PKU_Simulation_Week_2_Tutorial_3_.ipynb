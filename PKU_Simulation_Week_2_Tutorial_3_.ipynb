{
 "cells": [
  {
   "cell_type": "markdown",
   "metadata": {
    "id": "WuBPOtFgFaDS"
   },
   "source": [
    "# Problem 1"
   ]
  },
  {
   "cell_type": "markdown",
   "metadata": {
    "id": "rNuI0fgvFc4d"
   },
   "source": [
    "## (a)"
   ]
  },
  {
   "cell_type": "code",
   "execution_count": null,
   "metadata": {
    "id": "zETwBM25FDCy"
   },
   "outputs": [],
   "source": [
    "def J(theta):\n",
    "    return theta**2 + 2/theta**2"
   ]
  },
  {
   "cell_type": "code",
   "execution_count": null,
   "metadata": {
    "colab": {
     "base_uri": "https://localhost:8080/",
     "height": 265
    },
    "id": "V8zHGUb9HLOG",
    "outputId": "7e63fdc0-08c3-4b4c-cbbb-5fc1698c4ba5"
   },
   "outputs": [
    {
     "data": {
      "image/png": "[encoded data removed]",
      "text/plain": [
       "<Figure size 432x288 with 1 Axes>"
      ]
     },
     "metadata": {
      "needs_background": "light",
      "tags": []
     },
     "output_type": "display_data"
    }
   ],
   "source": [
    "import numpy as np\n",
    "from matplotlib import pyplot as plt\n",
    "xRange = np.linspace(start = 0.5, stop = 3, num = 51)\n",
    "yValues = J(xRange)\n",
    "plt.plot(xRange, yValues)\n",
    "plt.show()"
   ]
  },
  {
   "cell_type": "markdown",
   "metadata": {
    "id": "NQNqv_KKUMe9"
   },
   "source": [
    "**Solving it analytically, the anser is $2^{(1/4)} = 1.18$**\n"
   ]
  },
  {
   "cell_type": "markdown",
   "metadata": {
    "id": "d2UJhXMNIC-9"
   },
   "source": [
    "## (b)"
   ]
  },
  {
   "cell_type": "markdown",
   "metadata": {
    "id": "l9hjH2fpKSot"
   },
   "source": [
    "convex!!!"
   ]
  },
  {
   "cell_type": "markdown",
   "metadata": {
    "id": "7WcIEiGVKPOJ"
   },
   "source": [
    "## (c)"
   ]
  },
  {
   "cell_type": "markdown",
   "metadata": {
    "id": "sXqZ6IfFKVG-"
   },
   "source": [
    "### fixed $\\epsilon$"
   ]
  },
  {
   "cell_type": "code",
   "execution_count": null,
   "metadata": {
    "id": "sXolmBYII44C"
   },
   "outputs": [],
   "source": [
    "def gradient_J(theta):\n",
    "    return 2*theta - 4/theta**3"
   ]
  },
  {
   "cell_type": "code",
   "execution_count": null,
   "metadata": {
    "colab": {
     "base_uri": "https://localhost:8080/"
    },
    "id": "k8yOSjKyHtLS",
    "outputId": "787c1281-b801-48d2-8df2-e01d80850640"
   },
   "outputs": [
    {
     "name": "stdout",
     "output_type": "stream",
     "text": [
      "1.189207115002721\n"
     ]
    }
   ],
   "source": [
    "init_theta= 1.0    \n",
    "m  = 100 # iterations\n",
    "epsilon = 0.075\n",
    "\n",
    "theta = np.zeros(m)\n",
    "theta[0] = init_theta\n",
    "\n",
    "for i in range(m):\n",
    "    if i == 0:\n",
    "        pass\n",
    "    else:\n",
    "        theta[i] = theta[i-1] - epsilon * gradient_J(theta[i-1])\n",
    "\n",
    "print(theta[-1])"
   ]
  },
  {
   "cell_type": "markdown",
   "metadata": {
    "id": "xQ7PauTnKZeS"
   },
   "source": [
    "### decreasing $\\epsilon$"
   ]
  },
  {
   "cell_type": "code",
   "execution_count": null,
   "metadata": {
    "colab": {
     "base_uri": "https://localhost:8080/"
    },
    "id": "F0H07bltKceZ",
    "outputId": "4450e6d2-e67a-4d20-fd43-d0cb00d04d72"
   },
   "outputs": [
    {
     "name": "stdout",
     "output_type": "stream",
     "text": [
      "1.179245308261334\n"
     ]
    }
   ],
   "source": [
    "init_theta= 1.0    \n",
    "m  = 100 # iterations\n",
    "epsilon = 0.075\n",
    "\n",
    "theta = np.zeros(m)\n",
    "theta[0] = init_theta\n",
    "\n",
    "for i in range(m):\n",
    "    if i == 0:\n",
    "        pass\n",
    "    else:\n",
    "        theta[i] = theta[i-1] - epsilon * gradient_J(theta[i-1]) / (i+1)\n",
    "\n",
    "print(theta[-1])"
   ]
  },
  {
   "cell_type": "markdown",
   "metadata": {
    "id": "o5kBABXPKJ7L"
   },
   "source": [
    "## (d)"
   ]
  },
  {
   "cell_type": "code",
   "execution_count": null,
   "metadata": {
    "id": "ZJCKN1SqLA6H"
   },
   "outputs": [],
   "source": [
    "from scipy.stats import expon\n",
    "def sample_from_theta(theta):\n",
    "    return expon.rvs(scale = 1/theta)"
   ]
  },
  {
   "cell_type": "code",
   "execution_count": null,
   "metadata": {
    "id": "GPiP3a0RJ5UC"
   },
   "outputs": [],
   "source": [
    "def J_prime(theta):\n",
    "    delta = 0.1\n",
    "    m = 1000\n",
    "\n",
    "    samples = np.zeros(m)\n",
    "    for i in range(m):\n",
    "        s0 = sample_from_theta(theta)\n",
    "        s1 = sample_from_theta(theta+delta)\n",
    "        sample = s1**2 + (theta+delta)**2 - s0**2 - theta**2\n",
    "        samples[i] = sample\n",
    "\n",
    "    return np.mean(samples)"
   ]
  },
  {
   "cell_type": "markdown",
   "metadata": {
    "id": "MKvirNygM3-A"
   },
   "source": [
    "## (e)"
   ]
  },
  {
   "cell_type": "markdown",
   "metadata": {
    "id": "bxM59VCQNFkh"
   },
   "source": [
    "### fixed $\\epsilon$"
   ]
  },
  {
   "cell_type": "code",
   "execution_count": null,
   "metadata": {
    "colab": {
     "base_uri": "https://localhost:8080/"
    },
    "id": "-CEfH0lvMu_h",
    "outputId": "c8ccd3d8-87de-4dfa-9acd-24dbf5102433"
   },
   "outputs": [
    {
     "name": "stdout",
     "output_type": "stream",
     "text": [
      "1.1353697600975337\n"
     ]
    }
   ],
   "source": [
    "init_theta= 1.0    \n",
    "m  = 100 # iterations\n",
    "epsilon = 0.075\n",
    "\n",
    "theta = np.zeros(m)\n",
    "theta[0] = init_theta\n",
    "\n",
    "for i in range(m):\n",
    "    if i == 0:\n",
    "        pass\n",
    "    else:\n",
    "        theta[i] = theta[i-1] - epsilon * J_prime(theta[i-1])\n",
    "\n",
    "print(theta[-1])"
   ]
  },
  {
   "cell_type": "markdown",
   "metadata": {
    "id": "B7L8G1TJNHzP"
   },
   "source": [
    "### decreasing $\\epsilon$"
   ]
  },
  {
   "cell_type": "code",
   "execution_count": null,
   "metadata": {
    "colab": {
     "base_uri": "https://localhost:8080/"
    },
    "id": "-vtHbFSHNLgT",
    "outputId": "672b9123-4fdb-48ec-826b-d8eddbea4749"
   },
   "outputs": [
    {
     "name": "stdout",
     "output_type": "stream",
     "text": [
      "1.0484112016751532\n"
     ]
    }
   ],
   "source": [
    "init_theta= 1.0    \n",
    "m  = 100 # iterations\n",
    "epsilon = 0.075\n",
    "\n",
    "theta = np.zeros(m)\n",
    "theta[0] = init_theta\n",
    "\n",
    "for i in range(m):\n",
    "    if i == 0:\n",
    "        pass\n",
    "    else:\n",
    "        theta[i] = theta[i-1] - epsilon * J_prime(theta[i-1]) / (i+1)\n",
    "\n",
    "print(theta[-1])"
   ]
  },
  {
   "cell_type": "markdown",
   "metadata": {
    "id": "Hng6MRLNNfMD"
   },
   "source": [
    "## (e)"
   ]
  },
  {
   "cell_type": "markdown",
   "metadata": {
    "id": "Wk1p9fqzNgko"
   },
   "source": [
    "*compare  the  speed  of  convergence  of  the  deterministic  problem  vs.   the  stochasticone*"
   ]
  },
  {
   "cell_type": "markdown",
   "metadata": {
    "id": "zlgQqOxYNmzX"
   },
   "source": [
    "**Ans: WLOG, we compare the cases where $\\epsilon$ is fixed**"
   ]
  },
  {
   "cell_type": "code",
   "execution_count": null,
   "metadata": {
    "id": "TBYBAuYmOCpg"
   },
   "outputs": [],
   "source": [
    "init_theta= 1.0    \n",
    "m  = 100 # iterations\n",
    "epsilon = 0.075\n",
    "\n",
    "deterministic_theta = np.zeros(m)\n",
    "deterministic_theta[0] = init_theta\n",
    "\n",
    "for i in range(m):\n",
    "    if i == 0:\n",
    "        pass\n",
    "    else:\n",
    "        deterministic_theta[i] = deterministic_theta[i-1] - epsilon * gradient_J(deterministic_theta[i-1])"
   ]
  },
  {
   "cell_type": "code",
   "execution_count": null,
   "metadata": {
    "id": "qD95sUWeNP2e"
   },
   "outputs": [],
   "source": [
    "init_theta= 1.0    \n",
    "m  = 100 # iterations\n",
    "epsilon = 0.075\n",
    "\n",
    "stochastic_theta = np.zeros(m)\n",
    "stochastic_theta[0] = init_theta\n",
    "\n",
    "for i in range(m):\n",
    "    if i == 0:\n",
    "        pass\n",
    "    else:\n",
    "        stochastic_theta[i] = stochastic_theta[i-1] - epsilon * J_prime(stochastic_theta[i-1])"
   ]
  },
  {
   "cell_type": "code",
   "execution_count": null,
   "metadata": {
    "colab": {
     "base_uri": "https://localhost:8080/",
     "height": 282
    },
    "id": "oFYZqP-ZOps3",
    "outputId": "2fa4a03b-6d9d-4c80-f5a7-eec7432f92b7"
   },
   "outputs": [
    {
     "data": {
      "text/plain": [
       "<matplotlib.legend.Legend at 0x7ff5f5f6bdd0>"
      ]
     },
     "execution_count": 41,
     "metadata": {
      "tags": []
     },
     "output_type": "execute_result"
    },
    {
     "data": {
      "image/png": "[encoded data removed]",
      "text/plain": [
       "<Figure size 432x288 with 1 Axes>"
      ]
     },
     "metadata": {
      "needs_background": "light",
      "tags": []
     },
     "output_type": "display_data"
    }
   ],
   "source": [
    "plt.plot(deterministic_theta, label=\"det\")\n",
    "plt.plot(stochastic_theta, label=\"sto\")\n",
    "plt.legend()"
   ]
  },
  {
   "cell_type": "markdown",
   "metadata": {
    "id": "gpOmmkfHPUNz"
   },
   "source": [
    "*which approach works overall best?*"
   ]
  },
  {
   "cell_type": "markdown",
   "metadata": {
    "id": "W30jXQmyPXHv"
   },
   "source": [
    "**Ans: The deterministic one.**\n",
    "\n",
    "- **convergence rate**\n",
    "- **computational budget**"
   ]
  },
  {
   "cell_type": "markdown",
   "metadata": {
    "id": "OsZ8VQfvPdNj"
   },
   "source": [
    "*provide a heuristic for applying the descent algorithm (how do you decide when terminate?).*"
   ]
  },
  {
   "cell_type": "markdown",
   "metadata": {
    "id": "9MR8B1SWQVUB"
   },
   "source": [
    "**Ans: when there is a change between steps being smaller than 0.001, then stop. But this varies with the scales of the problem, so maybe change this fixed hyperparameter into some ratio such as 0.1%.**"
   ]
  }
 ],
 "metadata": {
  "colab": {
   "name": "PKU Simulation Week 2 Tutorial 3 .ipynb",
   "provenance": [],
   "toc_visible": true
  },
  "kernelspec": {
   "display_name": "Python 3",
   "language": "python",
   "name": "python3"
  },
  "language_info": {
   "codemirror_mode": {
    "name": "ipython",
    "version": 3
   },
   "file_extension": ".py",
   "mimetype": "text/x-python",
   "name": "python",
   "nbconvert_exporter": "python",
   "pygments_lexer": "ipython3",
   "version": "3.8.10"
  }
 },
 "nbformat": 4,
 "nbformat_minor": 1
}
