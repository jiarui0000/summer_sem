{
 "cells": [
  {
   "cell_type": "code",
   "execution_count": 1,
   "id": "491f5f03",
   "metadata": {},
   "outputs": [],
   "source": [
    "import numpy"
   ]
  },
  {
   "cell_type": "code",
   "execution_count": 27,
   "id": "319554d5",
   "metadata": {},
   "outputs": [],
   "source": [
    "k, m = 50, 200\n",
    "n = k*m"
   ]
  },
  {
   "cell_type": "code",
   "execution_count": 28,
   "id": "b933a720",
   "metadata": {},
   "outputs": [
    {
     "name": "stdout",
     "output_type": "stream",
     "text": [
      "J: 0.4104 \n",
      "variance: 0.0011958399999999999\n"
     ]
    }
   ],
   "source": [
    "l1 = [] # k(50)*m(200)\n",
    "for i in range(k):\n",
    "    s = numpy.random.uniform(low=0.0, high=1.0, size=m)\n",
    "    counter = 0\n",
    "    for j in range(m):\n",
    "        if s[j] > 0.6:\n",
    "            counter += 1\n",
    "    l1.append(counter/m)\n",
    "print(\"J:\", round(numpy.mean(l1), 6),\"\\nvariance:\", numpy.var(l1))"
   ]
  },
  {
   "cell_type": "code",
   "execution_count": 12,
   "id": "0a71f01f",
   "metadata": {},
   "outputs": [
    {
     "data": {
      "text/plain": [
       "10000"
      ]
     },
     "execution_count": 12,
     "metadata": {},
     "output_type": "execute_result"
    }
   ],
   "source": [
    "k, m = 50*200, 1\n",
    "n = k*m\n",
    "n"
   ]
  },
  {
   "cell_type": "code",
   "execution_count": 13,
   "id": "1d074ba3",
   "metadata": {},
   "outputs": [
    {
     "name": "stdout",
     "output_type": "stream",
     "text": [
      "J: 0.3872 \n",
      "variance: 0.23727615999999999\n"
     ]
    }
   ],
   "source": [
    "l1 = [] # n(10000)\n",
    "for i in range(k):\n",
    "    s = numpy.random.uniform(low=0.0, high=1.0, size=m)\n",
    "    counter = 0\n",
    "    for j in range(m):\n",
    "        if s[j] > 0.6:\n",
    "            counter += 1\n",
    "    l1.append(counter/m)\n",
    "print(\"J:\", round(numpy.mean(l1), 6),\"\\nvariance:\", numpy.var(l1))"
   ]
  },
  {
   "cell_type": "code",
   "execution_count": 14,
   "id": "9ed0a8d4",
   "metadata": {},
   "outputs": [],
   "source": [
    "k, m = 200, 50\n",
    "n = k*m"
   ]
  },
  {
   "cell_type": "code",
   "execution_count": 15,
   "id": "e8d62b6c",
   "metadata": {},
   "outputs": [
    {
     "name": "stdout",
     "output_type": "stream",
     "text": [
      "J: 0.3954 \n",
      "variance: 0.005470840000000001\n"
     ]
    }
   ],
   "source": [
    "l1 = [] # k(200)*n(50)\n",
    "for i in range(k):\n",
    "    s = numpy.random.uniform(low=0.0, high=1.0, size=m)\n",
    "    counter = 0\n",
    "    for j in range(m):\n",
    "        if s[j] > 0.6:\n",
    "            counter += 1\n",
    "    l1.append(counter/m)\n",
    "print(\"J:\", round(numpy.mean(l1), 6),\"\\nvariance:\", numpy.var(l1))"
   ]
  },
  {
   "cell_type": "code",
   "execution_count": 31,
   "id": "60402ef2",
   "metadata": {},
   "outputs": [],
   "source": [
    "k, m = 5, 2000\n",
    "n = k*m"
   ]
  },
  {
   "cell_type": "code",
   "execution_count": 32,
   "id": "336a8e50",
   "metadata": {},
   "outputs": [
    {
     "name": "stdout",
     "output_type": "stream",
     "text": [
      "J: 0.4008 \n",
      "variance: 4.115999999999987e-05\n"
     ]
    }
   ],
   "source": [
    "l1 = [] # k(200)*n(50)\n",
    "for i in range(k):\n",
    "    s = numpy.random.uniform(low=0.0, high=1.0, size=m)\n",
    "    counter = 0\n",
    "    for j in range(m):\n",
    "        if s[j] > 0.6:\n",
    "            counter += 1\n",
    "    l1.append(counter/m)\n",
    "print(\"J:\", round(numpy.mean(l1), 6),\"\\nvariance:\", numpy.var(l1))"
   ]
  },
  {
   "cell_type": "code",
   "execution_count": null,
   "id": "881b2dff",
   "metadata": {},
   "outputs": [],
   "source": []
  },
  {
   "cell_type": "code",
   "execution_count": 33,
   "id": "7fdb6407",
   "metadata": {},
   "outputs": [
    {
     "data": {
      "text/plain": [
       "(array([0.70923797, 0.57598097, 0.69934384]),\n",
       " array([0.40416293, 0.39228415, 0.65884128]))"
      ]
     },
     "execution_count": 33,
     "metadata": {},
     "output_type": "execute_result"
    }
   ],
   "source": [
    "x = numpy.random.uniform(low=0.0, high=1.0, size=3)\n",
    "y = numpy.random.uniform(low=0.0, high=1.0, size=3)\n",
    "x, y"
   ]
  },
  {
   "cell_type": "code",
   "execution_count": 36,
   "id": "13080361",
   "metadata": {},
   "outputs": [
    {
     "data": {
      "text/plain": [
       "[0.25487047295106313, 0.13378540369831493, 0.29371942342499735]"
      ]
     },
     "execution_count": 36,
     "metadata": {},
     "output_type": "execute_result"
    }
   ],
   "source": [
    "l = [] #a, b, c\n",
    "for i in range(-1,2):\n",
    "    l.append(numpy.sqrt(numpy.square(x[i]-x[i+1])+numpy.square(y[i]-y[i+1])))\n",
    "l"
   ]
  },
  {
   "cell_type": "code",
   "execution_count": 39,
   "id": "65fd005e",
   "metadata": {},
   "outputs": [
    {
     "data": {
      "text/plain": [
       "0.017027602259451196"
      ]
     },
     "execution_count": 39,
     "metadata": {},
     "output_type": "execute_result"
    }
   ],
   "source": [
    "s = numpy.sum(l) / 2\n",
    "area = numpy.sqrt(s*(s-l[0])*(s-l[1])*(s-l[2]))\n",
    "area"
   ]
  },
  {
   "cell_type": "code",
   "execution_count": 53,
   "id": "48de4e3d",
   "metadata": {},
   "outputs": [
    {
     "name": "stdout",
     "output_type": "stream",
     "text": [
      "J: 0.07601916491320819 \n",
      "variance: 0.0045308666607855996\n"
     ]
    }
   ],
   "source": [
    "n = 10000\n",
    "areas =[]\n",
    "for i in range(n):\n",
    "    x = numpy.random.rand(3)\n",
    "    y = numpy.random.rand(3)\n",
    "    l = [] #a, b, c\n",
    "    for i in range(-1,2):\n",
    "        l.append(numpy.sqrt(numpy.square(x[i]-x[i+1])+numpy.square(y[i]-y[i+1])))\n",
    "    s = numpy.sum(l) / 2\n",
    "    area = numpy.sqrt(s*(s-l[0])*(s-l[1])*(s-l[2]))\n",
    "    areas.append(area)\n",
    "print(\"J:\", numpy.mean(areas), \"\\nvariance:\", numpy.var(areas))"
   ]
  },
  {
   "cell_type": "code",
   "execution_count": null,
   "id": "57845533",
   "metadata": {},
   "outputs": [],
   "source": []
  }
 ],
 "metadata": {
  "kernelspec": {
   "display_name": "Python 3",
   "language": "python",
   "name": "python3"
  },
  "language_info": {
   "codemirror_mode": {
    "name": "ipython",
    "version": 3
   },
   "file_extension": ".py",
   "mimetype": "text/x-python",
   "name": "python",
   "nbconvert_exporter": "python",
   "pygments_lexer": "ipython3",
   "version": "3.8.10"
  }
 },
 "nbformat": 4,
 "nbformat_minor": 5
}
