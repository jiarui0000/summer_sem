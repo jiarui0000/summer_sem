{
 "cells": [
  {
   "cell_type": "code",
   "execution_count": 8,
   "id": "7ef3ab3c",
   "metadata": {},
   "outputs": [],
   "source": [
    "import numpy as np\n",
    "import numpy.random as rnd"
   ]
  },
  {
   "cell_type": "code",
   "execution_count": 2,
   "id": "c90eacc3",
   "metadata": {},
   "outputs": [],
   "source": [
    "def conf_int_95(y):\n",
    "    a = np.mean(y)\n",
    "    b = np.sqrt(np.var(y, ddof=1))\n",
    "    return (a-1.96*b, a+1.96*b)"
   ]
  },
  {
   "cell_type": "code",
   "execution_count": 3,
   "id": "3da48317",
   "metadata": {},
   "outputs": [
    {
     "data": {
      "text/plain": [
       "(0.8092900024021996, 8.243341576545168)"
      ]
     },
     "execution_count": 3,
     "metadata": {},
     "output_type": "execute_result"
    }
   ],
   "source": [
    "conf_int_95([1,2,3,4,5,6,7,8,3,2,4,5,6,3,5,4,6,7,5])"
   ]
  },
  {
   "cell_type": "code",
   "execution_count": 4,
   "id": "92c472e5",
   "metadata": {},
   "outputs": [],
   "source": [
    "def mapping(u):\n",
    "    if u <= 1/4:\n",
    "        return 0\n",
    "    elif u <= 3/8:\n",
    "        return 1\n",
    "    elif u <= 3/8+1/12:\n",
    "        return 2\n",
    "    elif u <= 3/8+1/12+1/6:\n",
    "        return 3\n",
    "    elif u <= 3/8+1/12+1/6+1/24:\n",
    "        return 4\n",
    "    else:\n",
    "        return 5"
   ]
  },
  {
   "cell_type": "code",
   "execution_count": 5,
   "id": "be6d2930",
   "metadata": {},
   "outputs": [
    {
     "data": {
      "text/plain": [
       "5"
      ]
     },
     "execution_count": 5,
     "metadata": {},
     "output_type": "execute_result"
    }
   ],
   "source": [
    "mapping(np.random.rand(1))"
   ]
  },
  {
   "cell_type": "code",
   "execution_count": 7,
   "id": "c3dfea63",
   "metadata": {},
   "outputs": [
    {
     "name": "stdout",
     "output_type": "stream",
     "text": [
      "[0.2542 0.1191 0.0826 0.1701 0.0399 0.3341]\n"
     ]
    }
   ],
   "source": [
    "l = np.zeros(6)\n",
    "for i in range(10000):\n",
    "    x = mapping(np.random.rand(1))\n",
    "    l[x]+=1\n",
    "l = l/10000\n",
    "print(l)"
   ]
  },
  {
   "cell_type": "code",
   "execution_count": null,
   "id": "dbbd5dc1",
   "metadata": {},
   "outputs": [],
   "source": []
  },
  {
   "cell_type": "code",
   "execution_count": 9,
   "id": "7250849f",
   "metadata": {},
   "outputs": [],
   "source": [
    "def simrun(m):\n",
    "    seats = np.array([True]*m)\n",
    "    s = rnd.randint(m) # first person\n",
    "    seats[s] = False\n",
    "    for p in range(1,m-1): # persons 2,...,m-1\n",
    "        if seats[p]: # his seat is available\n",
    "            seats[p] = False # set seat as taken\n",
    "        else: # chooses random from available\n",
    "            a = np.where(seats==True) # available seats\n",
    "            s = rnd.randint(m-p)\n",
    "            i = a[0][s]\n",
    "            seats[i] = False\n",
    "    if seats[-1]:\n",
    "        return 1 # last person has his own seat\n",
    "    else:\n",
    "        return 0"
   ]
  },
  {
   "cell_type": "code",
   "execution_count": 55,
   "id": "cce6b2c1",
   "metadata": {},
   "outputs": [],
   "source": [
    "def simulations(m,n):\n",
    "    y = np.zeros(n)\n",
    "    for i in range(n):\n",
    "        y[i] = simrun(m)\n",
    "    est = np.mean(y)\n",
    "    s2 = np.var(y,ddof=1)\n",
    "    se = np.sqrt(s2/n)\n",
    "    print('estimate:', est)\n",
    "    print('se :', se)\n",
    "    print('95% ci :', est-1.96*se, est+1.96*se)\n",
    "    return est"
   ]
  },
  {
   "cell_type": "code",
   "execution_count": 56,
   "id": "788ec3e1",
   "metadata": {},
   "outputs": [
    {
     "name": "stdout",
     "output_type": "stream",
     "text": [
      "estimate: 0.48\n",
      "se : 0.05021167315686782\n",
      "95% ci : 0.381585120612539 0.578414879387461\n"
     ]
    },
    {
     "data": {
      "text/plain": [
       "0.48"
      ]
     },
     "execution_count": 56,
     "metadata": {},
     "output_type": "execute_result"
    }
   ],
   "source": [
    "simulations(m=20, n=100)"
   ]
  },
  {
   "cell_type": "code",
   "execution_count": 57,
   "id": "02b8569b",
   "metadata": {},
   "outputs": [
    {
     "name": "stdout",
     "output_type": "stream",
     "text": [
      "estimate: 0.7\n",
      "se : 0.15275252316519464\n",
      "95% ci : 0.4006050545962185 0.9993949454037814\n"
     ]
    },
    {
     "data": {
      "text/plain": [
       "0.7"
      ]
     },
     "execution_count": 57,
     "metadata": {},
     "output_type": "execute_result"
    }
   ],
   "source": [
    "simulations(m=20, n=10)"
   ]
  },
  {
   "cell_type": "code",
   "execution_count": 58,
   "id": "cbce2cf7",
   "metadata": {},
   "outputs": [
    {
     "name": "stdout",
     "output_type": "stream",
     "text": [
      "estimate: 0.508\n",
      "se : 0.015817274929209084\n",
      "95% ci : 0.4769981411387502 0.5390018588612498\n"
     ]
    },
    {
     "data": {
      "text/plain": [
       "0.508"
      ]
     },
     "execution_count": 58,
     "metadata": {},
     "output_type": "execute_result"
    }
   ],
   "source": [
    "simulations(m=20, n=1000)"
   ]
  },
  {
   "cell_type": "code",
   "execution_count": 21,
   "id": "57912523",
   "metadata": {},
   "outputs": [],
   "source": [
    "import matplotlib.pyplot as plt"
   ]
  },
  {
   "cell_type": "code",
   "execution_count": 61,
   "id": "e5eefa6c",
   "metadata": {
    "scrolled": true
   },
   "outputs": [
    {
     "name": "stdout",
     "output_type": "stream",
     "text": [
      "estimate: 0.5\n",
      "se : 0.16666666666666669\n",
      "95% ci : 0.17333333333333328 0.8266666666666667\n",
      "estimate: 0.2\n",
      "se : 0.13333333333333336\n",
      "95% ci : -0.06133333333333335 0.4613333333333334\n",
      "estimate: 0.2\n",
      "se : 0.13333333333333336\n",
      "95% ci : -0.06133333333333335 0.4613333333333334\n",
      "estimate: 0.7\n",
      "se : 0.15275252316519464\n",
      "95% ci : 0.4006050545962185 0.9993949454037814\n",
      "estimate: 0.6\n",
      "se : 0.16329931618554522\n",
      "95% ci : 0.2799333402763314 0.9200666597236686\n",
      "estimate: 0.8\n",
      "se : 0.13333333333333333\n",
      "95% ci : 0.5386666666666667 1.0613333333333332\n",
      "estimate: 0.6\n",
      "se : 0.1632993161855452\n",
      "95% ci : 0.27993334027633143 0.9200666597236685\n",
      "estimate: 0.3\n",
      "se : 0.15275252316519464\n",
      "95% ci : 0.0006050545962185128 0.5993949454037815\n",
      "estimate: 0.8\n",
      "se : 0.13333333333333336\n",
      "95% ci : 0.5386666666666666 1.0613333333333335\n",
      "estimate: 0.4\n",
      "se : 0.16329931618554522\n",
      "95% ci : 0.07993334027633142 0.7200666597236687\n",
      "estimate: 0.6\n",
      "se : 0.16329931618554522\n",
      "95% ci : 0.2799333402763314 0.9200666597236686\n",
      "estimate: 0.3\n",
      "se : 0.15275252316519464\n",
      "95% ci : 0.0006050545962185128 0.5993949454037815\n",
      "estimate: 0.7\n",
      "se : 0.15275252316519466\n",
      "95% ci : 0.4006050545962184 0.9993949454037815\n",
      "estimate: 0.4\n",
      "se : 0.16329931618554522\n",
      "95% ci : 0.07993334027633142 0.7200666597236687\n",
      "estimate: 0.4\n",
      "se : 0.16329931618554522\n",
      "95% ci : 0.07993334027633142 0.7200666597236687\n",
      "estimate: 0.7\n",
      "se : 0.15275252316519464\n",
      "95% ci : 0.4006050545962185 0.9993949454037814\n",
      "estimate: 0.7\n",
      "se : 0.15275252316519464\n",
      "95% ci : 0.4006050545962185 0.9993949454037814\n",
      "estimate: 0.9\n",
      "se : 0.1\n",
      "95% ci : 0.704 1.096\n",
      "estimate: 0.5\n",
      "se : 0.16666666666666669\n",
      "95% ci : 0.17333333333333328 0.8266666666666667\n",
      "estimate: 0.7\n",
      "se : 0.15275252316519464\n",
      "95% ci : 0.4006050545962185 0.9993949454037814\n",
      "estimate: 0.7\n",
      "se : 0.15275252316519466\n",
      "95% ci : 0.4006050545962184 0.9993949454037815\n",
      "estimate: 0.4\n",
      "se : 0.16329931618554522\n",
      "95% ci : 0.07993334027633142 0.7200666597236687\n",
      "estimate: 0.3\n",
      "se : 0.15275252316519466\n",
      "95% ci : 0.0006050545962184573 0.5993949454037815\n",
      "estimate: 0.7\n",
      "se : 0.15275252316519466\n",
      "95% ci : 0.4006050545962184 0.9993949454037815\n",
      "estimate: 0.4\n",
      "se : 0.1632993161855452\n",
      "95% ci : 0.07993334027633148 0.7200666597236686\n",
      "estimate: 0.6\n",
      "se : 0.1632993161855452\n",
      "95% ci : 0.27993334027633143 0.9200666597236685\n",
      "estimate: 0.4\n",
      "se : 0.16329931618554522\n",
      "95% ci : 0.07993334027633142 0.7200666597236687\n",
      "estimate: 0.4\n",
      "se : 0.16329931618554522\n",
      "95% ci : 0.07993334027633142 0.7200666597236687\n",
      "estimate: 0.4\n",
      "se : 0.16329931618554522\n",
      "95% ci : 0.07993334027633142 0.7200666597236687\n",
      "estimate: 0.7\n",
      "se : 0.15275252316519464\n",
      "95% ci : 0.4006050545962185 0.9993949454037814\n",
      "estimate: 0.7\n",
      "se : 0.15275252316519464\n",
      "95% ci : 0.4006050545962185 0.9993949454037814\n",
      "estimate: 0.5\n",
      "se : 0.16666666666666669\n",
      "95% ci : 0.17333333333333328 0.8266666666666667\n",
      "estimate: 0.4\n",
      "se : 0.1632993161855452\n",
      "95% ci : 0.07993334027633148 0.7200666597236686\n",
      "estimate: 0.8\n",
      "se : 0.13333333333333333\n",
      "95% ci : 0.5386666666666667 1.0613333333333332\n",
      "estimate: 0.5\n",
      "se : 0.16666666666666669\n",
      "95% ci : 0.17333333333333328 0.8266666666666667\n",
      "estimate: 0.4\n",
      "se : 0.1632993161855452\n",
      "95% ci : 0.07993334027633148 0.7200666597236686\n",
      "estimate: 0.7\n",
      "se : 0.15275252316519466\n",
      "95% ci : 0.4006050545962184 0.9993949454037815\n",
      "estimate: 0.5\n",
      "se : 0.16666666666666669\n",
      "95% ci : 0.17333333333333328 0.8266666666666667\n",
      "estimate: 0.6\n",
      "se : 0.1632993161855452\n",
      "95% ci : 0.27993334027633143 0.9200666597236685\n",
      "estimate: 0.7\n",
      "se : 0.15275252316519464\n",
      "95% ci : 0.4006050545962185 0.9993949454037814\n",
      "estimate: 0.3\n",
      "se : 0.15275252316519466\n",
      "95% ci : 0.0006050545962184573 0.5993949454037815\n",
      "estimate: 0.3\n",
      "se : 0.15275252316519464\n",
      "95% ci : 0.0006050545962185128 0.5993949454037815\n",
      "estimate: 0.1\n",
      "se : 0.1\n",
      "95% ci : -0.096 0.29600000000000004\n",
      "estimate: 0.4\n",
      "se : 0.16329931618554522\n",
      "95% ci : 0.07993334027633142 0.7200666597236687\n",
      "estimate: 0.5\n",
      "se : 0.16666666666666669\n",
      "95% ci : 0.17333333333333328 0.8266666666666667\n",
      "estimate: 0.6\n",
      "se : 0.1632993161855452\n",
      "95% ci : 0.27993334027633143 0.9200666597236685\n",
      "estimate: 0.5\n",
      "se : 0.16666666666666669\n",
      "95% ci : 0.17333333333333328 0.8266666666666667\n",
      "estimate: 0.1\n",
      "se : 0.1\n",
      "95% ci : -0.096 0.29600000000000004\n",
      "estimate: 0.2\n",
      "se : 0.13333333333333336\n",
      "95% ci : -0.06133333333333335 0.4613333333333334\n",
      "estimate: 0.3\n",
      "se : 0.15275252316519466\n",
      "95% ci : 0.0006050545962184573 0.5993949454037815\n",
      "(0.11912623490241592, 0.8848737650975841)\n"
     ]
    },
    {
     "data": {
      "image/png": "[encoded data removed]",
      "text/plain": [
       "<Figure size 432x288 with 1 Axes>"
      ]
     },
     "metadata": {
      "needs_background": "light"
     },
     "output_type": "display_data"
    }
   ],
   "source": [
    "x0 = []\n",
    "for i in range(50):\n",
    "    x0.append(simulations(m=20, n=10))\n",
    "x = np.array(x0)\n",
    "print(conf_int_95(x))\n",
    "\n",
    "num_bins = 50\n",
    "mu, sigma = np.mean(x), np.std(x)\n",
    "fig, ax = plt.subplots()\n",
    "\n",
    "n, bins, patches = ax.hist(x, num_bins, density=True)\n",
    "\n",
    "y = ((1 / (np.sqrt(2 * np.pi) * sigma)) *\n",
    "     np.exp(-0.5 * (1 / sigma * (bins - mu))**2))\n",
    "ax.plot(bins, y, '--')\n",
    "\n",
    "fig.tight_layout()\n",
    "plt.show()"
   ]
  },
  {
   "cell_type": "code",
   "execution_count": 60,
   "id": "77dfb3e5",
   "metadata": {},
   "outputs": [
    {
     "name": "stdout",
     "output_type": "stream",
     "text": [
      "estimate: 0.58\n",
      "se : 0.04960449637488583\n",
      "95% ci : 0.4827751871052237 0.6772248128947762\n",
      "estimate: 0.49\n",
      "se : 0.05024183937956914\n",
      "95% ci : 0.39152599481604444 0.5884740051839555\n",
      "estimate: 0.5\n",
      "se : 0.050251890762960605\n",
      "95% ci : 0.4015062941045972 0.5984937058954027\n",
      "estimate: 0.51\n",
      "se : 0.05024183937956914\n",
      "95% ci : 0.41152599481604446 0.6084740051839556\n",
      "estimate: 0.5\n",
      "se : 0.050251890762960605\n",
      "95% ci : 0.4015062941045972 0.5984937058954027\n",
      "estimate: 0.53\n",
      "se : 0.050161355804659184\n",
      "95% ci : 0.431683742622868 0.628316257377132\n",
      "estimate: 0.48\n",
      "se : 0.05021167315686782\n",
      "95% ci : 0.381585120612539 0.578414879387461\n",
      "estimate: 0.56\n",
      "se : 0.04988876515698589\n",
      "95% ci : 0.46221802029230774 0.6577819797076924\n",
      "estimate: 0.53\n",
      "se : 0.050161355804659184\n",
      "95% ci : 0.431683742622868 0.628316257377132\n",
      "estimate: 0.49\n",
      "se : 0.05024183937956913\n",
      "95% ci : 0.3915259948160445 0.5884740051839554\n",
      "estimate: 0.49\n",
      "se : 0.05024183937956913\n",
      "95% ci : 0.3915259948160445 0.5884740051839554\n",
      "estimate: 0.51\n",
      "se : 0.05024183937956914\n",
      "95% ci : 0.41152599481604446 0.6084740051839556\n",
      "estimate: 0.46\n",
      "se : 0.050090826596203314\n",
      "95% ci : 0.36182197987144155 0.5581780201285585\n",
      "estimate: 0.44\n",
      "se : 0.049888765156985884\n",
      "95% ci : 0.3422180202923077 0.5377819797076924\n",
      "estimate: 0.47\n",
      "se : 0.050161355804659184\n",
      "95% ci : 0.37168374262286796 0.568316257377132\n",
      "estimate: 0.48\n",
      "se : 0.05021167315686782\n",
      "95% ci : 0.381585120612539 0.578414879387461\n",
      "estimate: 0.48\n",
      "se : 0.05021167315686782\n",
      "95% ci : 0.381585120612539 0.578414879387461\n",
      "estimate: 0.51\n",
      "se : 0.05024183937956913\n",
      "95% ci : 0.4115259948160445 0.6084740051839554\n",
      "estimate: 0.49\n",
      "se : 0.05024183937956914\n",
      "95% ci : 0.39152599481604444 0.5884740051839555\n",
      "estimate: 0.49\n",
      "se : 0.05024183937956914\n",
      "95% ci : 0.39152599481604444 0.5884740051839555\n",
      "estimate: 0.51\n",
      "se : 0.05024183937956914\n",
      "95% ci : 0.41152599481604446 0.6084740051839556\n",
      "estimate: 0.55\n",
      "se : 0.05\n",
      "95% ci : 0.45200000000000007 0.648\n",
      "estimate: 0.5\n",
      "se : 0.050251890762960605\n",
      "95% ci : 0.4015062941045972 0.5984937058954027\n",
      "estimate: 0.55\n",
      "se : 0.05\n",
      "95% ci : 0.45200000000000007 0.648\n",
      "estimate: 0.46\n",
      "se : 0.05009082659620331\n",
      "95% ci : 0.36182197987144155 0.5581780201285584\n",
      "estimate: 0.53\n",
      "se : 0.050161355804659184\n",
      "95% ci : 0.431683742622868 0.628316257377132\n",
      "estimate: 0.5\n",
      "se : 0.050251890762960605\n",
      "95% ci : 0.4015062941045972 0.5984937058954027\n",
      "estimate: 0.51\n",
      "se : 0.05024183937956914\n",
      "95% ci : 0.41152599481604446 0.6084740051839556\n",
      "estimate: 0.46\n",
      "se : 0.05009082659620331\n",
      "95% ci : 0.36182197987144155 0.5581780201285584\n",
      "estimate: 0.62\n",
      "se : 0.04878317312145634\n",
      "95% ci : 0.5243849806819456 0.7156150193180544\n",
      "estimate: 0.56\n",
      "se : 0.04988876515698589\n",
      "95% ci : 0.46221802029230774 0.6577819797076924\n",
      "estimate: 0.51\n",
      "se : 0.05024183937956914\n",
      "95% ci : 0.41152599481604446 0.6084740051839556\n",
      "estimate: 0.37\n",
      "se : 0.048523658709390974\n",
      "95% ci : 0.2748936289295937 0.4651063710704063\n",
      "estimate: 0.52\n",
      "se : 0.05021167315686782\n",
      "95% ci : 0.42158512061253905 0.618414879387461\n",
      "estimate: 0.55\n",
      "se : 0.05\n",
      "95% ci : 0.45200000000000007 0.648\n",
      "estimate: 0.4\n",
      "se : 0.04923659639173309\n",
      "95% ci : 0.30349627107220317 0.4965037289277969\n",
      "estimate: 0.51\n",
      "se : 0.05024183937956913\n",
      "95% ci : 0.4115259948160445 0.6084740051839554\n",
      "estimate: 0.55\n",
      "se : 0.05\n",
      "95% ci : 0.45200000000000007 0.648\n",
      "estimate: 0.44\n",
      "se : 0.04988876515698589\n",
      "95% ci : 0.34221802029230763 0.5377819797076924\n",
      "estimate: 0.43\n",
      "se : 0.04975698519562429\n",
      "95% ci : 0.3324763090165764 0.5275236909834236\n",
      "estimate: 0.45\n",
      "se : 0.05\n",
      "95% ci : 0.352 0.548\n",
      "estimate: 0.52\n",
      "se : 0.05021167315686782\n",
      "95% ci : 0.42158512061253905 0.618414879387461\n",
      "estimate: 0.53\n",
      "se : 0.050161355804659184\n",
      "95% ci : 0.431683742622868 0.628316257377132\n",
      "estimate: 0.48\n",
      "se : 0.05021167315686782\n",
      "95% ci : 0.381585120612539 0.578414879387461\n",
      "estimate: 0.46\n",
      "se : 0.05009082659620331\n",
      "95% ci : 0.36182197987144155 0.5581780201285584\n",
      "estimate: 0.48\n",
      "se : 0.05021167315686782\n",
      "95% ci : 0.381585120612539 0.578414879387461\n",
      "estimate: 0.59\n",
      "se : 0.04943110704237103\n",
      "95% ci : 0.49311503019695274 0.6868849698030473\n",
      "estimate: 0.48\n",
      "se : 0.05021167315686782\n",
      "95% ci : 0.381585120612539 0.578414879387461\n",
      "estimate: 0.54\n",
      "se : 0.05009082659620331\n",
      "95% ci : 0.44182197987144156 0.6381780201285585\n",
      "estimate: 0.48\n",
      "se : 0.05021167315686782\n",
      "95% ci : 0.381585120612539 0.578414879387461\n",
      "(0.4099206263806372, 0.5912793736193629)\n"
     ]
    },
    {
     "data": {
      "image/png": "[encoded data removed]",
      "text/plain": [
       "<Figure size 432x288 with 1 Axes>"
      ]
     },
     "metadata": {
      "needs_background": "light"
     },
     "output_type": "display_data"
    }
   ],
   "source": [
    "x0 = []\n",
    "for i in range(50):\n",
    "    x0.append(simulations(m=20, n=100))\n",
    "x = np.array(x0)\n",
    "print(conf_int_95(x))\n",
    "\n",
    "num_bins = 50\n",
    "mu, sigma = np.mean(x), np.std(x)\n",
    "fig, ax = plt.subplots()\n",
    "\n",
    "n, bins, patches = ax.hist(x, num_bins, density=True)\n",
    "\n",
    "y = ((1 / (np.sqrt(2 * np.pi) * sigma)) *\n",
    "     np.exp(-0.5 * (1 / sigma * (bins - mu))**2))\n",
    "ax.plot(bins, y, '--')\n",
    "\n",
    "fig.tight_layout()\n",
    "plt.show()"
   ]
  },
  {
   "cell_type": "code",
   "execution_count": 59,
   "id": "7c7f2614",
   "metadata": {
    "scrolled": true
   },
   "outputs": [
    {
     "name": "stdout",
     "output_type": "stream",
     "text": [
      "estimate: 0.51\n",
      "se : 0.015816135752773183\n",
      "95% ci : 0.47900037392456457 0.5409996260754355\n",
      "estimate: 0.498\n",
      "se : 0.01581917337430266\n",
      "95% ci : 0.4669944201863668 0.5290055798136332\n",
      "estimate: 0.534\n",
      "se : 0.01578268332993769\n",
      "95% ci : 0.5030659406733221 0.564934059326678\n",
      "estimate: 0.508\n",
      "se : 0.015817274929209084\n",
      "95% ci : 0.4769981411387502 0.5390018588612498\n",
      "estimate: 0.488\n",
      "se : 0.015814743314581686\n",
      "95% ci : 0.4570031031034199 0.5189968968965801\n",
      "estimate: 0.521\n",
      "se : 0.015805341148131185\n",
      "95% ci : 0.4900215313496629 0.5519784686503372\n",
      "estimate: 0.525\n",
      "se : 0.01579951342999602\n",
      "95% ci : 0.49403295367720784 0.5559670463227923\n",
      "estimate: 0.457\n",
      "se : 0.0157606915901365\n",
      "95% ci : 0.4261090444833325 0.48789095551666756\n",
      "estimate: 0.485\n",
      "se : 0.01581217964181488\n",
      "95% ci : 0.4540081279020428 0.5159918720979572\n",
      "estimate: 0.481\n",
      "se : 0.015807874268505835\n",
      "95% ci : 0.45001656643372856 0.5119834335662714\n",
      "estimate: 0.51\n",
      "se : 0.015816135752773183\n",
      "95% ci : 0.47900037392456457 0.5409996260754355\n",
      "estimate: 0.503\n",
      "se : 0.015819015179246818\n",
      "95% ci : 0.4719947302486762 0.5340052697513238\n",
      "estimate: 0.523\n",
      "se : 0.015802554246726087\n",
      "95% ci : 0.4920269936764169 0.5539730063235832\n",
      "estimate: 0.486\n",
      "se : 0.015813097547730935\n",
      "95% ci : 0.45500632880644737 0.5169936711935527\n",
      "estimate: 0.504\n",
      "se : 0.01581879370351084\n",
      "95% ci : 0.47299516434111877 0.5350048356588812\n",
      "estimate: 0.518\n",
      "se : 0.015809045699406585\n",
      "95% ci : 0.4870142704291631 0.5489857295708369\n",
      "estimate: 0.501\n",
      "se : 0.01581926829057682\n",
      "95% ci : 0.4699942341504694 0.5320057658495305\n",
      "estimate: 0.506\n",
      "se : 0.015818160898606833\n",
      "95% ci : 0.4749964046387306 0.5370035953612694\n",
      "estimate: 0.47\n",
      "se : 0.015790799515836722\n",
      "95% ci : 0.43905003294896 0.50094996705104\n",
      "estimate: 0.498\n",
      "se : 0.01581917337430266\n",
      "95% ci : 0.4669944201863668 0.5290055798136332\n",
      "estimate: 0.502\n",
      "se : 0.01581917337430266\n",
      "95% ci : 0.4709944201863668 0.5330055798136332\n",
      "estimate: 0.502\n",
      "se : 0.01581917337430266\n",
      "95% ci : 0.4709944201863668 0.5330055798136332\n",
      "estimate: 0.493\n",
      "se : 0.015817749561843533\n",
      "95% ci : 0.46199721085878664 0.5240027891412133\n",
      "estimate: 0.495\n",
      "se : 0.01581850894443674\n",
      "95% ci : 0.46399572246890397 0.526004277531096\n",
      "estimate: 0.49\n",
      "se : 0.015816135752773183\n",
      "95% ci : 0.45900037392456455 0.5209996260754355\n",
      "estimate: 0.498\n",
      "se : 0.01581917337430266\n",
      "95% ci : 0.4669944201863668 0.5290055798136332\n",
      "estimate: 0.508\n",
      "se : 0.015817274929209084\n",
      "95% ci : 0.4769981411387502 0.5390018588612498\n",
      "estimate: 0.497\n",
      "se : 0.015819015179246818\n",
      "95% ci : 0.4659947302486762 0.5280052697513238\n",
      "estimate: 0.519\n",
      "se : 0.015807874268505835\n",
      "95% ci : 0.4880165664337286 0.5499834335662714\n",
      "estimate: 0.513\n",
      "se : 0.01581395210189664\n",
      "95% ci : 0.4820046538802826 0.5439953461197174\n",
      "estimate: 0.476\n",
      "se : 0.015801065586651862\n",
      "95% ci : 0.44502991145016235 0.5069700885498376\n",
      "estimate: 0.494\n",
      "se : 0.015818160898606833\n",
      "95% ci : 0.4629964046387306 0.5250035953612694\n",
      "estimate: 0.531\n",
      "se : 0.015788865959538965\n",
      "95% ci : 0.5000538227193037 0.5619461772806964\n",
      "estimate: 0.498\n",
      "se : 0.01581917337430266\n",
      "95% ci : 0.4669944201863668 0.5290055798136332\n",
      "estimate: 0.509\n",
      "se : 0.015816736995005295\n",
      "95% ci : 0.47799919548978964 0.5400008045102104\n",
      "estimate: 0.516\n",
      "se : 0.015811198373114982\n",
      "95% ci : 0.48501005118869467 0.5469899488113054\n",
      "estimate: 0.515\n",
      "se : 0.01581217964181488\n",
      "95% ci : 0.48400812790204284 0.5459918720979572\n",
      "estimate: 0.502\n",
      "se : 0.01581917337430266\n",
      "95% ci : 0.4709944201863668 0.5330055798136332\n",
      "estimate: 0.482\n",
      "se : 0.01580904569940659\n",
      "95% ci : 0.4510142704291631 0.5129857295708369\n",
      "estimate: 0.501\n",
      "se : 0.015819268290576817\n",
      "95% ci : 0.4699942341504694 0.5320057658495305\n",
      "estimate: 0.497\n",
      "se : 0.015819015179246818\n",
      "95% ci : 0.4659947302486762 0.5280052697513238\n",
      "estimate: 0.487\n",
      "se : 0.01581395210189664\n",
      "95% ci : 0.45600465388028255 0.5179953461197174\n",
      "estimate: 0.504\n",
      "se : 0.01581879370351084\n",
      "95% ci : 0.47299516434111877 0.5350048356588812\n",
      "estimate: 0.514\n",
      "se : 0.015813097547730935\n",
      "95% ci : 0.4830063288064474 0.5449936711935527\n",
      "estimate: 0.471\n",
      "se : 0.015792669451628764\n",
      "95% ci : 0.4400463678748076 0.5019536321251924\n",
      "estimate: 0.502\n",
      "se : 0.01581917337430266\n",
      "95% ci : 0.4709944201863668 0.5330055798136332\n",
      "estimate: 0.516\n",
      "se : 0.015811198373114982\n",
      "95% ci : 0.48501005118869467 0.5469899488113054\n",
      "estimate: 0.494\n",
      "se : 0.015818160898606833\n",
      "95% ci : 0.4629964046387306 0.5250035953612694\n",
      "estimate: 0.506\n",
      "se : 0.015818160898606833\n",
      "95% ci : 0.4749964046387306 0.5370035953612694\n",
      "estimate: 0.51\n",
      "se : 0.015816135752773183\n",
      "95% ci : 0.47900037392456457 0.5409996260754355\n",
      "(0.47080082514202976, 0.5319191748579702)\n"
     ]
    },
    {
     "data": {
      "image/png": "[encoded data removed]",
      "text/plain": [
       "<Figure size 432x288 with 1 Axes>"
      ]
     },
     "metadata": {
      "needs_background": "light"
     },
     "output_type": "display_data"
    }
   ],
   "source": [
    "x0 = []\n",
    "for i in range(50):\n",
    "    x0.append(simulations(m=20, n=1000))\n",
    "x = np.array(x0)\n",
    "print(conf_int_95(x))\n",
    "\n",
    "num_bins =  50\n",
    "mu, sigma = np.mean(x), np.std(x)\n",
    "fig, ax = plt.subplots()\n",
    "\n",
    "n, bins, patches = ax.hist(x, num_bins, density=True)\n",
    "\n",
    "y = ((1 / (np.sqrt(2 * np.pi) * sigma)) *\n",
    "     np.exp(-0.5 * (1 / sigma * (bins - mu))**2))\n",
    "ax.plot(bins, y, '--')\n",
    "fig.tight_layout()\n",
    "plt.show()"
   ]
  },
  {
   "cell_type": "code",
   "execution_count": 54,
   "id": "cfb307c4",
   "metadata": {},
   "outputs": [
    {
     "name": "stdout",
     "output_type": "stream",
     "text": [
      "(0.48982678571899846, 0.5068452142810015)\n"
     ]
    },
    {
     "data": {
      "image/png": "[encoded data removed]",
      "text/plain": [
       "<Figure size 432x288 with 1 Axes>"
      ]
     },
     "metadata": {
      "needs_background": "light"
     },
     "output_type": "display_data"
    }
   ],
   "source": [
    "x0 = []\n",
    "for i in range(50):\n",
    "    x0.append(simulations(m=20, n=10000))\n",
    "x = np.array(x0)\n",
    "print(conf_int_95(x))\n",
    "\n",
    "num_bins =  50\n",
    "mu, sigma = np.mean(x), np.std(x)\n",
    "fig, ax = plt.subplots()\n",
    "\n",
    "n, bins, patches = ax.hist(x, num_bins, density=True)\n",
    "\n",
    "y = ((1 / (np.sqrt(2 * np.pi) * sigma)) *\n",
    "     np.exp(-0.5 * (1 / sigma * (bins - mu))**2))\n",
    "ax.plot(bins, y, '--')\n",
    "\n",
    "fig.tight_layout()\n",
    "plt.show()"
   ]
  },
  {
   "cell_type": "code",
   "execution_count": null,
   "id": "58ba2785",
   "metadata": {},
   "outputs": [],
   "source": []
  }
 ],
 "metadata": {
  "kernelspec": {
   "display_name": "Python 3",
   "language": "python",
   "name": "python3"
  },
  "language_info": {
   "codemirror_mode": {
    "name": "ipython",
    "version": 3
   },
   "file_extension": ".py",
   "mimetype": "text/x-python",
   "name": "python",
   "nbconvert_exporter": "python",
   "pygments_lexer": "ipython3",
   "version": "3.8.10"
  }
 },
 "nbformat": 4,
 "nbformat_minor": 5
}
