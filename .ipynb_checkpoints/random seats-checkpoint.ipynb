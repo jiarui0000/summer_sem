{
 "cells": [
  {
   "cell_type": "code",
   "execution_count": 36,
   "id": "b9bcee45",
   "metadata": {},
   "outputs": [],
   "source": [
    "def print_out(a):\n",
    "    chars = []\n",
    "    for c in a:\n",
    "        chars.append('{0:02d}'.format(c))\n",
    "    while len(chars)<18:\n",
    "        chars.append('  ')\n",
    "    print(' '*5, '▼')\n",
    "    for i in range(6):\n",
    "        print(chars[i], end=' ')\n",
    "    print()\n",
    "    print(chars[6], ' '*2, str('-'*4)+str('>'), ' '*2, chars[7])\n",
    "    print(chars[8], ' '*11, chars[9])\n",
    "    print(chars[10], ' '*2, str('<')+str('-'*4), ' '*2, chars[11])\n",
    "    for i in range(6):\n",
    "        print(chars[12+i], end=' ')\n",
    "    print()"
   ]
  },
  {
   "cell_type": "code",
   "execution_count": 37,
   "id": "7e5ef8ba",
   "metadata": {},
   "outputs": [],
   "source": [
    "def random_seats(n=18):\n",
    "    idx = np.arange(1, n+1)\n",
    "    np.random.shuffle(idx)\n",
    "    print_out(idx)"
   ]
  },
  {
   "cell_type": "code",
   "execution_count": 39,
   "id": "3cc5f925",
   "metadata": {},
   "outputs": [
    {
     "name": "stdout",
     "output_type": "stream",
     "text": [
      "      ▼\n",
      "05 10 06 11 09 07 \n",
      "03    ---->    15\n",
      "12             01\n",
      "08    <----    14\n",
      "13 04 02 00       \n"
     ]
    }
   ],
   "source": [
    "import numpy as np\n",
    "random_seats(16)"
   ]
  },
  {
   "cell_type": "code",
   "execution_count": null,
   "id": "1ca4a719",
   "metadata": {},
   "outputs": [],
   "source": []
  }
 ],
 "metadata": {
  "kernelspec": {
   "display_name": "Python 3",
   "language": "python",
   "name": "python3"
  },
  "language_info": {
   "codemirror_mode": {
    "name": "ipython",
    "version": 3
   },
   "file_extension": ".py",
   "mimetype": "text/x-python",
   "name": "python",
   "nbconvert_exporter": "python",
   "pygments_lexer": "ipython3",
   "version": "3.8.10"
  }
 },
 "nbformat": 4,
 "nbformat_minor": 5
}
