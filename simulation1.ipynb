{
 "cells": [
  {
   "cell_type": "code",
   "execution_count": 1,
   "metadata": {},
   "outputs": [],
   "source": [
    "import numpy as np\n",
    "import random\n",
    "import matplotlib.pyplot as plt\n",
    "import scipy as sp\n",
    "from math import floor, ceil\n",
    "from queue import PriorityQueue"
   ]
  },
  {
   "cell_type": "code",
   "execution_count": 2,
   "metadata": {},
   "outputs": [],
   "source": [
    "def Uni01():\n",
    "    return random.random()\n",
    "def Poisson(lam):\n",
    "    k = Uni01()\n",
    "    f = 1\n",
    "    for i in range(100):\n",
    "        k -= np.exp(-lam)*lam**i/f\n",
    "        f *= (i+1)\n",
    "        if (k<0):return i\n",
    "    return 100"
   ]
  },
  {
   "cell_type": "code",
   "execution_count": 3,
   "metadata": {
    "scrolled": true
   },
   "outputs": [
    {
     "data": {
      "text/plain": [
       "(array([9.1050e+03, 1.4723e+04, 3.8852e+04, 1.5762e+04, 1.6436e+04,\n",
       "        2.9380e+03, 1.9010e+03, 2.0100e+02, 7.4000e+01, 8.0000e+00]),\n",
       " array([ 0. ,  1.5,  3. ,  4.5,  6. ,  7.5,  9. , 10.5, 12. , 13.5, 15. ]),\n",
       " <BarContainer object of 10 artists>)"
      ]
     },
     "execution_count": 3,
     "metadata": {},
     "output_type": "execute_result"
    },
    {
     "data": {
      "image/png": "[encoded data removed]",
      "text/plain": [
       "<Figure size 432x288 with 1 Axes>"
      ]
     },
     "metadata": {
      "needs_background": "light"
     },
     "output_type": "display_data"
    }
   ],
   "source": [
    "exitSamples = [Poisson(4) for _ in range(100000)]\n",
    "plt.hist(exitSamples) "
   ]
  },
  {
   "cell_type": "code",
   "execution_count": 4,
   "metadata": {},
   "outputs": [],
   "source": [
    "def exp(mu):\n",
    "    return -1/mu*np.log(Uni01())"
   ]
  },
  {
   "cell_type": "code",
   "execution_count": 5,
   "metadata": {},
   "outputs": [
    {
     "data": {
      "text/plain": [
       "(array([7.1337e+04, 2.0521e+04, 5.7250e+03, 1.7310e+03, 4.8400e+02,\n",
       "        1.4000e+02, 3.9000e+01, 1.7000e+01, 4.0000e+00, 2.0000e+00]),\n",
       " array([3.41921388e-06, 1.25557989e+01, 2.51115943e+01, 3.76673898e+01,\n",
       "        5.02231853e+01, 6.27789807e+01, 7.53347762e+01, 8.78905716e+01,\n",
       "        1.00446367e+02, 1.13002163e+02, 1.25557958e+02]),\n",
       " <BarContainer object of 10 artists>)"
      ]
     },
     "execution_count": 5,
     "metadata": {},
     "output_type": "execute_result"
    },
    {
     "data": {
      "image/png": "[encoded data removed]",
      "text/plain": [
       "<Figure size 432x288 with 1 Axes>"
      ]
     },
     "metadata": {
      "needs_background": "light"
     },
     "output_type": "display_data"
    }
   ],
   "source": [
    "exitSamples = [exp(0.1) for _ in range(100000)]\n",
    "plt.hist(exitSamples) "
   ]
  },
  {
   "cell_type": "code",
   "execution_count": 77,
   "metadata": {},
   "outputs": [],
   "source": [
    "class server_heap():\n",
    "    # TODO: A Data structure which used to repensent a server in the quene\n",
    "    # The value in the heap is the finish time of the task\n",
    "    def __init__(self, heap_size, queue_size, mu, server_name):\n",
    "        self.heap_top = 0\n",
    "        self.heap = [0]*heap_size\n",
    "        self.queue_top = 0\n",
    "        self.max_heap = heap_size\n",
    "        self.max_queue = queue_size\n",
    "        self.mu = mu\n",
    "        self.server_name = server_name\n",
    "        \n",
    "    @property\n",
    "    def que_min(self):\n",
    "        ans = 1e9\n",
    "        for i in range(self.heap_top):\n",
    "            ans = min(ans, self.heap[i])\n",
    "        return ans,self.server_name\n",
    "    \n",
    "    def pop_min(self):\n",
    "        ans,qwq = self.que_min\n",
    "        for i in range(self.heap_top):\n",
    "            if (self.heap[i] == ans):\n",
    "                self.heap[i], self.heap[self.heap_top-1] =self.heap[self.heap_top-1], self.heap[i]\n",
    "                self.heap_top-=1\n",
    "                break\n",
    "    \n",
    "    def blocked(self):\n",
    "        return self.queue_top >= self.max_queue\n",
    "    \n",
    "    def add_task(self, time):\n",
    "        #print(self.server_name,time)\n",
    "        if (self.blocked()):\n",
    "            return \"blocked!!!\"\n",
    "        else:\n",
    "            self.queue_top+=1\n",
    "        self.refresh(time)\n",
    "        return \"Successful added\"\n",
    "    \n",
    "    def refresh(self, time):\n",
    "        while (self.heap_top < self.max_heap and self.queue_top > 0):\n",
    "            self.queue_top -= 1\n",
    "            self.heap[self.heap_top] = time + exp(self.mu)\n",
    "            # according to the problem, the excute time is a exp distribution\n",
    "            self.heap_top += 1\n",
    "        #print(\"heap\",self.heap, self.heap_top)\n",
    "\n",
    "    #TODO: A 4-stage DSE simulation,\n",
    "            \n",
    "class DSE1():\n",
    "    def __init__(self, stat_begin = 50, stat_end = 100):\n",
    "        self.begin_time = 0\n",
    "        self.end_time = stat_end\n",
    "        self.stat_begin = stat_begin\n",
    "        self.time = 0\n",
    "        self.len = 4\n",
    "        self.q_size = [5,6,6,3]\n",
    "        self.h_size = [1,1,1,1]\n",
    "        self.mu = [2.9, 2.2, 2.2, 2.8]\n",
    "        self.server_heap = [0]*4\n",
    "        for i in range(self.len):\n",
    "            self.server_heap[i] = server_heap(self.h_size[i], self.q_size[i], self.mu[i], i)\n",
    "        self.lam = 2.1\n",
    "        self.ans = 0\n",
    "        \n",
    "    def add_work(self):\n",
    "        works = Poisson(self.lam)\n",
    "        # according to the problem\n",
    "        for i in range(works):\n",
    "            self.server_heap[0].add_task(self.time)\n",
    "        # TODO: works will come at time:0, 1, 2, 3....\n",
    "        \n",
    "    def next_event(self):\n",
    "        ans = (1e9,-1)\n",
    "        for i in range(self.len):\n",
    "            if (i == 3 or not self.server_heap[i+1].blocked()):\n",
    "                ans = min(ans, (self.server_heap[i].que_min))\n",
    "        # print(\"qwq\",ans, self.time)\n",
    "        if (floor(self.time) < floor(ans[0])):\n",
    "            # Warning: will error if use != instead of <\n",
    "            # print(floor(self.time), floor(ans[0]))\n",
    "            self.time = floor(self.time)+1\n",
    "            self.add_work()\n",
    "        else:\n",
    "            self.time=ans[0]\n",
    "            self.server_heap[ans[1]].pop_min()\n",
    "            if (ans[1]==3):\n",
    "                if (self.time>=50 and self.time<100):\n",
    "                    self.ans += 1\n",
    "            else:\n",
    "                self.server_heap[ans[1]+1].add_task(self.time)\n",
    "        for i in range(self.len):self.server_heap[i].refresh(self.time)\n",
    "    def calc(self):\n",
    "        self.add_work()\n",
    "        while (self.time<self.end_time):\n",
    "            self.next_event()\n",
    "        return self.ans"
   ]
  },
  {
   "cell_type": "code",
   "execution_count": 79,
   "metadata": {},
   "outputs": [
    {
     "data": {
      "text/plain": [
       "(array([  9.,  57.,  90., 167., 209., 237., 138.,  64.,  23.,   6.]),\n",
       " array([ 77. ,  82.6,  88.2,  93.8,  99.4, 105. , 110.6, 116.2, 121.8,\n",
       "        127.4, 133. ]),\n",
       " <BarContainer object of 10 artists>)"
      ]
     },
     "execution_count": 79,
     "metadata": {},
     "output_type": "execute_result"
    },
    {
     "data": {
      "image/png": "[encoded data removed]",
      "text/plain": [
       "<Figure size 432x288 with 1 Axes>"
      ]
     },
     "metadata": {
      "needs_background": "light"
     },
     "output_type": "display_data"
    }
   ],
   "source": [
    "exitSamples = [DSE1().calc() for _ in range(1000)]\n",
    "plt.hist(exitSamples) "
   ]
  },
  {
   "cell_type": "code",
   "execution_count": 81,
   "metadata": {},
   "outputs": [],
   "source": [
    "class DSE2():\n",
    "    def __init__(self, stat_begin = 50, stat_end = 100):\n",
    "        self.begin_time = 0\n",
    "        self.end_time = stat_end\n",
    "        self.stat_begin = stat_begin\n",
    "        self.time = 0\n",
    "        self.len = 4\n",
    "        self.q_size = [5,6,6,3]\n",
    "        self.h_size = [1,2,3,1]\n",
    "        self.mu = [2.9, 2.2, 2.2, 2.8]\n",
    "        self.server_heap = [0]*4\n",
    "        for i in range(self.len):\n",
    "            self.server_heap[i] = server_heap(self.h_size[i], self.q_size[i], self.mu[i], i)\n",
    "        self.lam = 2.1\n",
    "        self.ans = 0\n",
    "        \n",
    "    def add_work(self):\n",
    "        works = Poisson(self.lam)\n",
    "        # according to the problem\n",
    "        for i in range(works):\n",
    "            self.server_heap[0].add_task(self.time)\n",
    "        # TODO: works will come at time:0, 1, 2, 3....\n",
    "        \n",
    "    def next_event(self):\n",
    "        ans = (1e9,-1)\n",
    "        for i in range(self.len):\n",
    "            if (i == 3 or not self.server_heap[i+1].blocked()):\n",
    "                ans = min(ans, (self.server_heap[i].que_min))\n",
    "        # print(\"qwq\",ans, self.time)\n",
    "        if (floor(self.time) < floor(ans[0])):\n",
    "            # print(floor(self.time), floor(ans[0]))\n",
    "            self.time = floor(self.time)+1\n",
    "            self.add_work()\n",
    "        else:\n",
    "            self.time=ans[0]\n",
    "            self.server_heap[ans[1]].pop_min()\n",
    "            if (ans[1]==3):\n",
    "                if (self.time>=50 and self.time<100):\n",
    "                    self.ans += 1\n",
    "            else:\n",
    "                self.server_heap[ans[1]+1].add_task(self.time)\n",
    "        for i in range(self.len):self.server_heap[i].refresh(self.time)\n",
    "    def calc(self):\n",
    "        self.add_work()\n",
    "        while (self.time<self.end_time):\n",
    "            self.next_event()\n",
    "        return self.ans"
   ]
  },
  {
   "cell_type": "code",
   "execution_count": 82,
   "metadata": {},
   "outputs": [
    {
     "data": {
      "text/plain": [
       "(array([  6.,  45., 118., 186., 179., 209., 168.,  73.,  13.,   3.]),\n",
       " array([ 70. ,  80.6,  91.2, 101.8, 112.4, 123. , 133.6, 144.2, 154.8,\n",
       "        165.4, 176. ]),\n",
       " <BarContainer object of 10 artists>)"
      ]
     },
     "execution_count": 82,
     "metadata": {},
     "output_type": "execute_result"
    },
    {
     "data": {
      "image/png": "[encoded data removed]",
      "text/plain": [
       "<Figure size 432x288 with 1 Axes>"
      ]
     },
     "metadata": {
      "needs_background": "light"
     },
     "output_type": "display_data"
    }
   ],
   "source": [
    "exitSamples = [DSE2().calc() for _ in range(1000)]\n",
    "plt.hist(exitSamples) "
   ]
  },
  {
   "cell_type": "code",
   "execution_count": null,
   "metadata": {},
   "outputs": [],
   "source": []
  }
 ],
 "metadata": {
  "kernelspec": {
   "display_name": "Python 3",
   "language": "python",
   "name": "python3"
  },
  "language_info": {
   "codemirror_mode": {
    "name": "ipython",
    "version": 3
   },
   "file_extension": ".py",
   "mimetype": "text/x-python",
   "name": "python",
   "nbconvert_exporter": "python",
   "pygments_lexer": "ipython3",
   "version": "3.8.5"
  }
 },
 "nbformat": 4,
 "nbformat_minor": 4
}
