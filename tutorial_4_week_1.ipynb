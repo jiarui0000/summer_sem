{
 "cells": [
  {
   "cell_type": "code",
   "execution_count": 2,
   "id": "c6bf4d57",
   "metadata": {},
   "outputs": [],
   "source": [
    "import numpy as np"
   ]
  },
  {
   "cell_type": "code",
   "execution_count": null,
   "id": "a8ac7f98",
   "metadata": {},
   "outputs": [],
   "source": [
    "\n",
    "# state: s 0:only e0 happen; 1:e0 and e1 happen; 2:\n",
    "# evernt: e 0:\n",
    "\n",
    "class simulation:\n",
    "    def __init__(self, theta, c):\n",
    "        self.t_all = t_all # end time\n",
    "        self.t = 0 # global time\n",
    "        self.s = 0 # state\n",
    "        self.i = 0 # patient id\n",
    "        self.c = c # consult time\n",
    "        self.theta = theta # waiting time\n",
    "        \n",
    "    def event_0():\n",
    "        \n",
    "        \n",
    "    def event_1()\n",
    "    \n",
    "    def simulate():\n",
    "        while self.t<self.t_all:\n",
    "            if self.s == 0:\n",
    "                \n",
    "            elif self.s == 1:\n",
    "                \n",
    "            else:\n",
    "                "
   ]
  },
  {
   "cell_type": "code",
   "execution_count": 8,
   "id": "a1c3efb2",
   "metadata": {},
   "outputs": [
    {
     "data": {
      "text/plain": [
       "array([ 4.50319828,  6.40265106,  0.87538448,  4.38043309,  8.27483773,\n",
       "       14.33048056,  5.72816703,  3.04558629,  1.56459095,  6.04740026,\n",
       "        1.61067682,  5.70709746,  1.95852925,  5.47178848,  4.37906742,\n",
       "        3.86331839, 22.56795949,  7.16542016,  2.10920303, 11.49487539])"
      ]
     },
     "execution_count": 8,
     "metadata": {},
     "output_type": "execute_result"
    }
   ],
   "source": [
    "theta = [15,15,15,15,15,15,15,15,15,15,15,15,15,15,15,15,15,15,15,15]\n",
    "c = np.random.exponential(5, 20) \n",
    "c"
   ]
  },
  {
   "cell_type": "code",
   "execution_count": 33,
   "id": "b05c62e7",
   "metadata": {},
   "outputs": [],
   "source": [
    "def printout(y):\n",
    "    m = np.mean(y)\n",
    "    print(\"mean\", m)\n",
    "    se = np.sqrt(np.var(y))\n",
    "    print(\"standard error\", se)\n",
    "    print(\"relative error\", se/m)\n",
    "    print(\"95 confidence interval: (\", m-1.96*se, \",\", m+1.96*se, \")\")"
   ]
  },
  {
   "cell_type": "code",
   "execution_count": 32,
   "id": "d499a601",
   "metadata": {},
   "outputs": [],
   "source": [
    "def simulate(theta):\n",
    "    c = np.random.exponential(5, 20) \n",
    "    w =[0]\n",
    "    idle =[0]\n",
    "    for i in range(1, 20):\n",
    "        w.append(max((w[i-1]+c[i-1]-theta[i-1]), 0))\n",
    "        idle.append(max(-(w[i-1]+c[i-1]-theta[i-1]), 0))\n",
    "    return sum(w),sum(idle), sum(w)+sum(idle)\n"
   ]
  },
  {
   "cell_type": "code",
   "execution_count": 41,
   "id": "9cc5ca61",
   "metadata": {},
   "outputs": [
    {
     "name": "stdout",
     "output_type": "stream",
     "text": [
      "waiting:\n",
      "mean 30.983874601730804\n",
      "standard error 35.51792988606655\n",
      "relative error 1.1463359680678047\n",
      "95 confidence interval: ( -38.63126797495963 , 100.59901717842124 )\n",
      "\n",
      "idle:\n",
      "mean 86.46829262434419\n",
      "standard error 20.955576780532596\n",
      "relative error 0.242349838819794\n",
      "95 confidence interval: ( 45.3953621345003 , 127.54122311418807 )\n",
      "\n",
      "add up:\n",
      "mean 117.452167226075\n",
      "standard error 25.971496518253034\n",
      "relative error 0.2211240297359726\n",
      "95 confidence interval: ( 66.54803405029907 , 168.35630040185094 )\n"
     ]
    }
   ],
   "source": [
    "theta = [0]+[10]*19\n",
    "y_w = []\n",
    "y_idle =[]\n",
    "y_all = []\n",
    "for i in range(10000):\n",
    "    y_tmp = simulate(theta)\n",
    "    y_w.append(y_tmp[0])\n",
    "    y_idle.append(y_tmp[1])\n",
    "    y_all.append(y_tmp[2])\n",
    "print(\"waiting:\")\n",
    "printout(y_w)\n",
    "print()\n",
    "print(\"idle:\")\n",
    "printout(y_idle)\n",
    "print()\n",
    "print(\"add up:\")\n",
    "printout(y_all)"
   ]
  },
  {
   "cell_type": "code",
   "execution_count": 36,
   "id": "31bcf629",
   "metadata": {},
   "outputs": [
    {
     "name": "stdout",
     "output_type": "stream",
     "text": [
      "-----------------------------------------------------------------------------------\n",
      "5 minutes each\n",
      "waiting:\n",
      "mean 159.7255817944991\n",
      "standard error 117.1917533786429\n",
      "relative error 0.7337068493475285\n",
      "95 confidence interval: ( -69.97025482764099 , 389.4214184166392 )\n",
      "\n",
      "idle:\n",
      "mean 14.65971451580031\n",
      "standard error 11.634303462165404\n",
      "relative error 0.7936241493397362\n",
      "95 confidence interval: ( -8.14352027004388 , 37.4629493016445 )\n",
      "\n",
      "add up:\n",
      "mean 174.3852963102994\n",
      "standard error 108.94588123433688\n",
      "relative error 0.6247423580969791\n",
      "95 confidence interval: ( -39.1486309090009 , 387.91922352959966 )\n",
      "-----------------------------------------------------------------------------------\n",
      "7 minutes each\n",
      "waiting:\n",
      "mean 59.90423251450602\n",
      "standard error 67.18702039022692\n",
      "relative error 1.121573844952564\n",
      "95 confidence interval: ( -71.78232745033873 , 191.59079247935077 )\n",
      "\n",
      "idle:\n",
      "mean 42.26634653388298\n",
      "standard error 15.608359369318276\n",
      "relative error 0.36928574739256853\n",
      "95 confidence interval: ( 11.673962170019163 , 72.8587308977468 )\n",
      "\n",
      "add up:\n",
      "mean 102.17057904838899\n",
      "standard error 59.78204923014396\n",
      "relative error 0.5851200001698199\n",
      "95 confidence interval: ( -15.002237442693172 , 219.34339553947115 )\n",
      "-----------------------------------------------------------------------------------\n",
      "10 minutes each\n",
      "waiting:\n",
      "mean 18.42080780954919\n",
      "standard error 27.18932366805506\n",
      "relative error 1.476011472958333\n",
      "95 confidence interval: ( -34.87026657983873 , 71.7118821989371 )\n",
      "\n",
      "idle:\n",
      "mean 100.71977894803571\n",
      "standard error 19.833707420447883\n",
      "relative error 0.19691968774753443\n",
      "95 confidence interval: ( 61.84571240395786 , 139.59384549211356 )\n",
      "\n",
      "add up:\n",
      "mean 119.1405867575849\n",
      "standard error 19.199808623728917\n",
      "relative error 0.16115254378253757\n",
      "95 confidence interval: ( 81.50896185507622 , 156.77221166009357 )\n",
      "-----------------------------------------------------------------------------------\n",
      "15 minutes each\n",
      "waiting:\n",
      "mean 11.51707201425245\n",
      "standard error 19.83482807263948\n",
      "relative error 1.7222109966920196\n",
      "95 confidence interval: ( -27.35919100812093 , 50.39333503662583 )\n",
      "\n",
      "idle:\n",
      "mean 186.02909722946367\n",
      "standard error 24.52808899608392\n",
      "relative error 0.131850819906033\n",
      "95 confidence interval: ( 137.9540427971392 , 234.10415166178814 )\n",
      "\n",
      "add up:\n",
      "mean 197.54616924371615\n",
      "standard error 17.494246881606816\n",
      "relative error 0.08855776322356249\n",
      "95 confidence interval: ( 163.25744535576678 , 231.83489313166552 )\n"
     ]
    }
   ],
   "source": [
    "for i in [5, 7, 10, 15]:\n",
    "    print(\"-----------------------------------------------------------------------------------\")\n",
    "    print(i, \"minutes each\")\n",
    "    theta = [i]*20\n",
    "    y_w = []\n",
    "    y_idle =[]\n",
    "    y_all = []\n",
    "    for i in range(50):\n",
    "        y_tmp = simulate(theta)\n",
    "        y_w.append(y_tmp[0])\n",
    "        y_idle.append(y_tmp[1])\n",
    "        y_all.append(y_tmp[2])\n",
    "    print(\"waiting:\")\n",
    "    printout(y_w)\n",
    "    print()\n",
    "    print(\"idle:\")\n",
    "    printout(y_idle)\n",
    "    print()\n",
    "    print(\"add up:\")\n",
    "    printout(y_all)"
   ]
  },
  {
   "cell_type": "code",
   "execution_count": null,
   "id": "4427877b",
   "metadata": {},
   "outputs": [],
   "source": []
  },
  {
   "cell_type": "code",
   "execution_count": null,
   "id": "4a772341",
   "metadata": {},
   "outputs": [],
   "source": []
  }
 ],
 "metadata": {
  "kernelspec": {
   "display_name": "Python 3",
   "language": "python",
   "name": "python3"
  },
  "language_info": {
   "codemirror_mode": {
    "name": "ipython",
    "version": 3
   },
   "file_extension": ".py",
   "mimetype": "text/x-python",
   "name": "python",
   "nbconvert_exporter": "python",
   "pygments_lexer": "ipython3",
   "version": "3.8.10"
  }
 },
 "nbformat": 4,
 "nbformat_minor": 5
}
