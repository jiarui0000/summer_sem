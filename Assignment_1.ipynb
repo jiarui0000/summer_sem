{
 "cells": [
  {
   "cell_type": "code",
   "execution_count": 50,
   "id": "89cd1704",
   "metadata": {},
   "outputs": [],
   "source": [
    "# alpha:finish consulting; beta:new coming;\n",
    "# overall timer format: (timepoint, event, stationid, serverid)\n",
    "\n",
    "class Station:\n",
    "    def __init__(self, stationid, overall_timer, process_times, n_server=0, n_buffer=0):\n",
    "        self.stationid = stationid\n",
    "        self.overall_timer = overall_timer\n",
    "        self.s = n_server\n",
    "        self.c = n_buffer\n",
    "        self.wait = False\n",
    "        self.status = [0, [0]*n_server] # 1 for occupied\n",
    "        self.process_times = process_times\n",
    "        self.next_station = None\n",
    "    \n",
    "    def setnext(self, next_station):\n",
    "        self.next_station = next_station\n",
    "        \n",
    "    def update(self, timeslot):\n",
    "        event= timeslot[1]\n",
    "        if event == 'alpha':\n",
    "            serverid = timeslot[3]\n",
    "            self.alpha(serverid)\n",
    "        else:\n",
    "            self.beta()\n",
    "        del(self.overall_timer[0])\n",
    "        self.overall_timer.sort(key= lambda k:k[0])\n",
    "        \n",
    "    def alpha(self, serverid):\n",
    "        if self.next_station == None:\n",
    "            if self.status[0] > 0: # wqiting line is not empty\n",
    "                self.status[0] -= 1\n",
    "                try:\n",
    "                    self.overall_timer.append((self.process_times[0], 'alpha', self.stationid, serverid))\n",
    "                    del(self.process_times[0])\n",
    "                except:\n",
    "                    print(\"empty process time list for station\", self.stationid, \"server\", serverid)\n",
    "            else:\n",
    "                self.status[1][serverid] = 0\n",
    "                return True\n",
    "        else:\n",
    "            if self.next_station.beta():\n",
    "                if self.status[0] > 0: # wqiting line is not empty\n",
    "                    self.status[0] -= 1\n",
    "                    try:\n",
    "                        self.overall_timer.append((self.process_times[0], 'alpha', self.stationid, serverid))\n",
    "                        del(self.process_times[0])\n",
    "                    except:\n",
    "                        print(\"empty process time list for station\", self.stationid, \"server\", serverid)\n",
    "                else:\n",
    "                    self.status[1][serverid] = 0\n",
    "                    return True\n",
    "            else:\n",
    "                del(self.overall_timer[0])\n",
    "                for i in range(len(self.overall_timer)):\n",
    "                    if self.overall_timer[i][2]==self.stationid+1:\n",
    "                        self.overall_timer.append(self.overall_timer[i][0], 'alpha', self.stationid, serverid)\n",
    "                        return True\n",
    "                self.overall_timer.append((self.overall_timer[0][0], 'alpha', self.stationid, serverid))\n",
    "            \n",
    "    def beta(self):\n",
    "        if self.status[0] > 0: \n",
    "            if self.status[0]<self.c:\n",
    "                self.status[0]+=1\n",
    "                return True\n",
    "            else:\n",
    "                return False\n",
    "        else:\n",
    "            i = 0\n",
    "            while i < self.s:\n",
    "                if self.status[1][i]==0:\n",
    "                    self.status[1][i]=1\n",
    "                    self.overall_timer.append((self.process_times[0], 'alpha', self.stationid, i))\n",
    "                    self.process_times.remove(self.process_times[1])\n",
    "                    break\n",
    "                else:\n",
    "                    i += 1\n",
    "            if i == self.s:\n",
    "                self.status[0]+=1\n",
    "            return True\n",
    "        "
   ]
  },
  {
   "cell_type": "code",
   "execution_count": 51,
   "id": "b60c96a5",
   "metadata": {},
   "outputs": [],
   "source": [
    "import numpy as np\n",
    "class simulation:\n",
    "    def run():\n",
    "        timer = []\n",
    "        t = np.random.poisson(2.1, 20)\n",
    "        for i in range(2):\n",
    "            timer.append((t[i], 'beta', 1))\n",
    "            \n",
    "        stations = []\n",
    "        stations.append(Station(stationid=0, overall_timer=timer, process_times=list(np.random.exponential(2.9, 20)), n_server=1, n_buffer=5))\n",
    "        stations.append(Station(stationid=1, overall_timer=timer, process_times=list(np.random.exponential(2.2, 20)), n_server=1, n_buffer=6))\n",
    "        stations.append(Station(stationid=2, overall_timer=timer, process_times=list(np.random.exponential(2.2, 20)), n_server=1, n_buffer=6))\n",
    "        stations.append(Station(stationid=3, overall_timer=timer, process_times=list(np.random.exponential(2.8, 20)), n_server=1, n_buffer=3))\n",
    "        stations[2].setnext(stations[3])\n",
    "        stations[1].setnext(stations[2])\n",
    "        stations[0].setnext(stations[1])\n",
    "        \n",
    "        tt = 0\n",
    "        while len(timer)>0:\n",
    "            print(timer)\n",
    "            tt = timer[0][0]\n",
    "            stations[timer[0][2]].update(timer[0])\n",
    "        return tt\n",
    "            "
   ]
  },
  {
   "cell_type": "code",
   "execution_count": 52,
   "id": "9efb648c",
   "metadata": {},
   "outputs": [
    {
     "name": "stdout",
     "output_type": "stream",
     "text": [
      "[(2, 'beta', 1), (1, 'beta', 1)]\n",
      "[(1, 'beta', 1), (1.2083127551282957, 'alpha', 1, 0)]\n",
      "[(1.2083127551282957, 'alpha', 1, 0)]\n",
      "[(0.3937470157345916, 'alpha', 2, 0), (1.2083127551282957, 'alpha', 1, 0)]\n",
      "[(0.7412043368229988, 'alpha', 3, 0), (1.2083127551282957, 'alpha', 1, 0)]\n",
      "[(1.2083127551282957, 'alpha', 1, 0)]\n",
      "[(0.3937470157345916, 'alpha', 2, 0)]\n",
      "[(0.7412043368229988, 'alpha', 3, 0)]\n"
     ]
    },
    {
     "data": {
      "text/plain": [
       "0.7412043368229988"
      ]
     },
     "execution_count": 52,
     "metadata": {},
     "output_type": "execute_result"
    }
   ],
   "source": [
    "simulation.run()"
   ]
  },
  {
   "cell_type": "code",
   "execution_count": null,
   "id": "9d770663",
   "metadata": {},
   "outputs": [],
   "source": []
  }
 ],
 "metadata": {
  "kernelspec": {
   "display_name": "Python 3",
   "language": "python",
   "name": "python3"
  },
  "language_info": {
   "codemirror_mode": {
    "name": "ipython",
    "version": 3
   },
   "file_extension": ".py",
   "mimetype": "text/x-python",
   "name": "python",
   "nbconvert_exporter": "python",
   "pygments_lexer": "ipython3",
   "version": "3.8.10"
  }
 },
 "nbformat": 4,
 "nbformat_minor": 5
}
