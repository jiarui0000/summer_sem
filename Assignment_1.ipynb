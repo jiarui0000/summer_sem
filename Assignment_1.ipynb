{
 "cells": [
  {
   "cell_type": "code",
   "execution_count": 194,
   "id": "89cd1704",
   "metadata": {},
   "outputs": [],
   "source": [
    "# alpha:finish consulting; beta:new coming;\n",
    "# overall timer format: (timepoint, event, station id, server id)\n",
    "\n",
    "class Station:\n",
    "    def __init__(self, stationid, overall_timer, process_param, n_server=0, n_buffer=0):\n",
    "        self.stationid = stationid\n",
    "        self.overall_timer = overall_timer\n",
    "        self.s = n_server\n",
    "        self.c = n_buffer\n",
    "        self.wait = False\n",
    "        self.status = [0, [0]*n_server] # 1 for occupied\n",
    "        self.process_param = process_param\n",
    "        self.next_station = None\n",
    "    \n",
    "    def setnext(self, next_station):\n",
    "        self.next_station = next_station\n",
    "        \n",
    "    def printout(self):\n",
    "        # print(\"time:{:.04f}\".format(self.overall_timer[0][0]), \" \\tstation \"+str(self.stationid)+\":\", self.status)\n",
    "        return 0\n",
    "    \n",
    "    def update(self, timeslot):\n",
    "        event= timeslot[1]\n",
    "        if event == 'alpha':\n",
    "            serverid = timeslot[3]\n",
    "            self.alpha(serverid, timeslot)\n",
    "        else:\n",
    "            succeed = self.beta(timeslot)\n",
    "            if not succeed:\n",
    "                self.overall_timer.append((timeslot[0]+1, timeslot[1], timeslot[2]))\n",
    "        del(self.overall_timer[0])\n",
    "        self.overall_timer.sort(key= lambda k:(k[0], int(-k[2])))\n",
    "        \n",
    "    def alpha(self, serverid, timeslot):\n",
    "        if self.next_station == None:\n",
    "            if self.status[0] > 0: # wqiting line is not empty\n",
    "                self.status[0] -= 1\n",
    "                try:\n",
    "                    self.overall_timer.append((timeslot[0]+np.random.exponential(self.process_param), 'alpha', self.stationid, serverid))\n",
    "                    self.printout()\n",
    "                except:\n",
    "                    print(\"empty process time list for station\", self.stationid, \"server\", serverid)\n",
    "            else:\n",
    "                self.status[1][serverid] = 0\n",
    "                self.printout()\n",
    "                return True\n",
    "        else:\n",
    "            if self.next_station.beta(timeslot):\n",
    "                if self.status[0] > 0: # waiting line is not empty\n",
    "                    self.status[0] -= 1\n",
    "                    try:\n",
    "                        self.overall_timer.append((self.overall_timer[0][0]+np.random.exponential(self.process_param), 'alpha', self.stationid, serverid))\n",
    "                        # del(self.process_times[0])\n",
    "                        self.printout()\n",
    "                    except:\n",
    "                        print(\"empty process time list for station\", self.stationid, \"server\", serverid)\n",
    "                else:\n",
    "                    self.status[1][serverid] = 0\n",
    "                    self.printout()\n",
    "                    return True\n",
    "            else:\n",
    "                for i in range(len(self.overall_timer)):\n",
    "                    if self.overall_timer[i][2]==self.stationid+1:\n",
    "                        self.overall_timer.append((self.overall_timer[i][0], 'alpha', self.stationid, serverid))\n",
    "                        self.overall_timer.sort(key= lambda k:(k[0], int(-k[2])))\n",
    "                        return True\n",
    "                self.overall_timer.append((self.overall_timer[0][0], 'alpha', self.stationid, serverid))\n",
    "                self.overall_timer.sort(key= lambda k:(k[0], int(-k[2])))\n",
    "            \n",
    "    def beta(self, timeslot=None):\n",
    "        if self.status[0] > 0: \n",
    "            if self.status[0]<self.c:\n",
    "                self.status[0]+=1\n",
    "                self.printout()\n",
    "                return True\n",
    "            else:\n",
    "                return False\n",
    "        else:\n",
    "            i = 0\n",
    "            while i < self.s:\n",
    "                if self.status[1][i]==0:\n",
    "                    self.status[1][i]=1\n",
    "                    self.overall_timer.append((timeslot[0]+np.random.exponential(self.process_param), 'alpha', self.stationid, i))\n",
    "                    # self.process_times.remove(self.process_times[0])\n",
    "                    break\n",
    "                else:\n",
    "                    i += 1\n",
    "            if i == self.s:\n",
    "                self.status[0]+=1\n",
    "            self.printout()\n",
    "            return True\n",
    "        "
   ]
  },
  {
   "cell_type": "code",
   "execution_count": 195,
   "id": "b60c96a5",
   "metadata": {},
   "outputs": [],
   "source": [
    "import numpy as np\n",
    "class simulation:\n",
    "    def run(n_customers):\n",
    "        timer = []\n",
    "        t = np.random.poisson(2.1, n_customers)\n",
    "        for i in range(n_customers):\n",
    "            timer.append((t[i], 'beta', 0))\n",
    "        timer.sort(key= lambda k:k[0])\n",
    "            \n",
    "        stations = []\n",
    "        stations.append(Station(stationid=0, overall_timer=timer, process_param=2.9, n_server=1, n_buffer=5))\n",
    "        stations.append(Station(stationid=1, overall_timer=timer, process_param=2.2, n_server=1, n_buffer=6))\n",
    "        stations.append(Station(stationid=2, overall_timer=timer, process_param=2.2, n_server=1, n_buffer=6))\n",
    "        stations.append(Station(stationid=3, overall_timer=timer, process_param=2.8, n_server=1, n_buffer=3))\n",
    "        stations[2].setnext(stations[3])\n",
    "        stations[1].setnext(stations[2])\n",
    "        stations[0].setnext(stations[1])\n",
    "        \n",
    "        tt = 0\n",
    "        while len(timer)>0:\n",
    "            # print(timer)\n",
    "            tt = timer[0][0]\n",
    "            stations[timer[0][2]].update(timer[0])\n",
    "        return tt\n",
    "            "
   ]
  },
  {
   "cell_type": "code",
   "execution_count": 197,
   "id": "9efb648c",
   "metadata": {
    "scrolled": true
   },
   "outputs": [
    {
     "data": {
      "text/plain": [
       "92.62826183236551"
      ]
     },
     "execution_count": 197,
     "metadata": {},
     "output_type": "execute_result"
    }
   ],
   "source": [
    "simulation.run(n_customers=20)"
   ]
  },
  {
   "cell_type": "code",
   "execution_count": 198,
   "id": "e5122826",
   "metadata": {},
   "outputs": [],
   "source": [
    "import matplotlib.pyplot as plt\n",
    "def conf_int_95(y):\n",
    "    a = np.mean(y)\n",
    "    b = np.sqrt(np.var(y, ddof=1))\n",
    "    return (a-1.96*b, a+1.96*b)"
   ]
  },
  {
   "cell_type": "code",
   "execution_count": 200,
   "id": "9fcf8a70",
   "metadata": {},
   "outputs": [
    {
     "name": "stdout",
     "output_type": "stream",
     "text": [
      "(59.0709087949697, 107.12600661621123)\n"
     ]
    },
    {
     "data": {
      "image/png": "[encoded data removed]",
      "text/plain": [
       "<Figure size 432x288 with 1 Axes>"
      ]
     },
     "metadata": {
      "needs_background": "light"
     },
     "output_type": "display_data"
    }
   ],
   "source": [
    "x0 = []\n",
    "for i in range(100000):\n",
    "    x0.append(simulation.run(n_customers=20))\n",
    "x = np.array(x0)\n",
    "print(conf_int_95(x))\n",
    "\n",
    "num_bins =  50\n",
    "mu, sigma = np.mean(x), np.std(x)\n",
    "fig, ax = plt.subplots()\n",
    "ax.set_title('All servic finishing time: mu='+str(round(mu, 4))+'  sigma='+str(round(sigma, 4)))\n",
    "ax.set_xlabel('Time/min')\n",
    "ax.set_ylabel('Probability density')\n",
    "\n",
    "n, bins, patches = ax.hist(x, num_bins, density=True)\n",
    "\n",
    "y = ((1 / (np.sqrt(2 * np.pi) * sigma)) *\n",
    "     np.exp(-0.5 * (1 / sigma * (bins - mu))**2))\n",
    "ax.plot(bins, y, '--')\n",
    "\n",
    "fig.tight_layout()\n",
    "plt.show()"
   ]
  },
  {
   "cell_type": "code",
   "execution_count": null,
   "id": "6da095b0",
   "metadata": {
    "scrolled": true
   },
   "outputs": [
    {
     "name": "stdout",
     "output_type": "stream",
     "text": [
      "0\n"
     ]
    }
   ],
   "source": [
    "x0 = []\n",
    "for i in range(100):\n",
    "    print(i)\n",
    "    x1 = []\n",
    "    for _ in range(100000):\n",
    "        x1.append(simulation.run(n_customers=20))\n",
    "    # print(np.var(x1))\n",
    "    x0.append(np.mean(x1))\n",
    "x = np.array(x0)\n",
    "# print(np.var(x0))\n",
    "print(conf_int_95(x))\n",
    "\n",
    "num_bins = 50\n",
    "mu, sigma = np.mean(x), np.std(x)\n",
    "fig, ax = plt.subplots()\n",
    "ax.set_title('All servic finishing time: mu='+str(round(mu, 4))+'  sigma='+str(round(sigma, 4)))\n",
    "ax.set_xlabel('Time/min')\n",
    "ax.set_ylabel('Probability density')\n",
    "\n",
    "n, bins, patches = ax.hist(x, num_bins, density=True)\n",
    "\n",
    "y = ((1 / (np.sqrt(2 * np.pi) * sigma)) *\n",
    "     np.exp(-0.5 * (1 / sigma * (bins - mu))**2))\n",
    "ax.plot(bins, y, '--')\n",
    "\n",
    "fig.tight_layout()\n",
    "plt.show()"
   ]
  },
  {
   "cell_type": "code",
   "execution_count": null,
   "id": "3bfa2b8c",
   "metadata": {},
   "outputs": [],
   "source": [
    "class simulation1:\n",
    "    def run(n_customers):\n",
    "        timer = []\n",
    "        t = np.random.poisson(2.1, n_customers)\n",
    "        for i in range(n_customers):\n",
    "            timer.append((t[i], 'beta', 0))\n",
    "        timer.sort(key= lambda k:k[0])\n",
    "            \n",
    "        stations = []\n",
    "        stations.append(Station(stationid=0, overall_timer=timer, process_param=2.9, n_server=1, n_buffer=5))\n",
    "        stations.append(Station(stationid=1, overall_timer=timer, process_param=2.2, n_server=2, n_buffer=6))\n",
    "        stations.append(Station(stationid=2, overall_timer=timer, process_param=2.2, n_server=3, n_buffer=6))\n",
    "        stations.append(Station(stationid=3, overall_timer=timer, process_param=2.8, n_server=1, n_buffer=3))\n",
    "        stations[2].setnext(stations[3])\n",
    "        stations[1].setnext(stations[2])\n",
    "        stations[0].setnext(stations[1])\n",
    "        \n",
    "        tt = 0\n",
    "        while len(timer)>0:\n",
    "            # print(timer)\n",
    "            tt = timer[0][0]\n",
    "            stations[timer[0][2]].update(timer[0])\n",
    "        return tt\n",
    "            "
   ]
  },
  {
   "cell_type": "code",
   "execution_count": null,
   "id": "df42f458",
   "metadata": {},
   "outputs": [],
   "source": [
    "simulation1.run(n_customers=10)"
   ]
  },
  {
   "cell_type": "code",
   "execution_count": null,
   "id": "8bd01461",
   "metadata": {},
   "outputs": [],
   "source": [
    "x0 = []\n",
    "for i in range(100000):\n",
    "    x0.append(simulation1.run(n_customers=10))\n",
    "x = np.array(x0)\n",
    "print(conf_int_95(x))\n",
    "\n",
    "num_bins =  50\n",
    "mu, sigma = np.mean(x), np.std(x)\n",
    "fig, ax = plt.subplots()\n",
    "ax.set_title('All servic finishing time: $\\mu='+str(round(mu, 4))+'  sigma='+str(round(sigma, 4)))\n",
    "ax.set_xlabel('Time/min')\n",
    "ax.set_ylabel('Probability density')\n",
    "\n",
    "n, bins, patches = ax.hist(x, num_bins, density=True)\n",
    "\n",
    "y = ((1 / (np.sqrt(2 * np.pi) * sigma)) *\n",
    "     np.exp(-0.5 * (1 / sigma * (bins - mu))**2))\n",
    "ax.plot(bins, y, '--')\n",
    "\n",
    "fig.tight_layout()\n",
    "plt.show()"
   ]
  },
  {
   "cell_type": "code",
   "execution_count": null,
   "id": "2c66f050",
   "metadata": {},
   "outputs": [],
   "source": [
    "x0 = []\n",
    "for i in range(100):\n",
    "    print(i)\n",
    "    x1 = []\n",
    "    for _ in range(100000):\n",
    "        x1.append(simulation1.run(n_customers=10))\n",
    "    x0.append(np.mean(x1))\n",
    "x = np.array(x0)\n",
    "print(conf_int_95(x))\n",
    "\n",
    "num_bins = 50\n",
    "mu, sigma = np.mean(x), np.std(x)\n",
    "fig, ax = plt.subplots()\n",
    "ax.set_title('All servic finishing time: $\\mu='+str(round(mu, 4))+'  sigma='+str(round(sigma, 4)))\n",
    "ax.set_xlabel('Time/min')\n",
    "ax.set_ylabel('Probability density')\n",
    "\n",
    "n, bins, patches = ax.hist(x, num_bins, density=True)\n",
    "\n",
    "y = ((1 / (np.sqrt(2 * np.pi) * sigma)) *\n",
    "     np.exp(-0.5 * (1 / sigma * (bins - mu))**2))\n",
    "ax.plot(bins, y, '--')\n",
    "\n",
    "fig.tight_layout()\n",
    "plt.show()"
   ]
  },
  {
   "cell_type": "code",
   "execution_count": null,
   "id": "f2e8673c",
   "metadata": {},
   "outputs": [],
   "source": []
  }
 ],
 "metadata": {
  "kernelspec": {
   "display_name": "Python 3",
   "language": "python",
   "name": "python3"
  },
  "language_info": {
   "codemirror_mode": {
    "name": "ipython",
    "version": 3
   },
   "file_extension": ".py",
   "mimetype": "text/x-python",
   "name": "python",
   "nbconvert_exporter": "python",
   "pygments_lexer": "ipython3",
   "version": "3.8.10"
  }
 },
 "nbformat": 4,
 "nbformat_minor": 5
}
